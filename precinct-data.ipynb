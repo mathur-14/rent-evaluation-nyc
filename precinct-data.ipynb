{
 "cells": [
  {
   "cell_type": "code",
   "execution_count": 2,
   "metadata": {},
   "outputs": [],
   "source": [
    "import pandas as pd"
   ]
  },
  {
   "cell_type": "markdown",
   "metadata": {},
   "source": [
    "# Police Precinct"
   ]
  },
  {
   "cell_type": "code",
   "execution_count": 3,
   "metadata": {},
   "outputs": [
    {
     "name": "stdout",
     "output_type": "stream",
     "text": [
      "the_geom      MULTIPOLYGON (((-74.04387761573958 40.69018767...\n",
      "Precinct                                                      1\n",
      "Shape_Leng                                         79979.409545\n",
      "Shape_Area                                        47182160.4145\n",
      "Name: 0, dtype: object\n"
     ]
    }
   ],
   "source": [
    "police_df = pd.read_csv('./data/police_p.csv')\n",
    "print(police_df.iloc[0])"
   ]
  },
  {
   "cell_type": "code",
   "execution_count": 4,
   "metadata": {},
   "outputs": [
    {
     "data": {
      "text/plain": [
       "Index(['the_geom', 'Precinct', 'Shape_Leng', 'Shape_Area'], dtype='object')"
      ]
     },
     "execution_count": 4,
     "metadata": {},
     "output_type": "execute_result"
    }
   ],
   "source": [
    "police_df.columns"
   ]
  },
  {
   "cell_type": "markdown",
   "metadata": {},
   "source": [
    "# Schools"
   ]
  },
  {
   "cell_type": "code",
   "execution_count": 5,
   "metadata": {},
   "outputs": [
    {
     "data": {
      "text/html": [
       "<div>\n",
       "<style scoped>\n",
       "    .dataframe tbody tr th:only-of-type {\n",
       "        vertical-align: middle;\n",
       "    }\n",
       "\n",
       "    .dataframe tbody tr th {\n",
       "        vertical-align: top;\n",
       "    }\n",
       "\n",
       "    .dataframe thead th {\n",
       "        text-align: right;\n",
       "    }\n",
       "</style>\n",
       "<table border=\"1\" class=\"dataframe\">\n",
       "  <thead>\n",
       "    <tr style=\"text-align: right;\">\n",
       "      <th></th>\n",
       "      <th>fiscal_year</th>\n",
       "      <th>system_code</th>\n",
       "      <th>location_code</th>\n",
       "      <th>location_name</th>\n",
       "      <th>BEDS</th>\n",
       "      <th>Managed_by_name</th>\n",
       "      <th>location_type_description</th>\n",
       "      <th>Location_Category_Description</th>\n",
       "      <th>Grades_text</th>\n",
       "      <th>Grades_final_text</th>\n",
       "      <th>...</th>\n",
       "      <th>Administrative_District_Name</th>\n",
       "      <th>community_school_sup_name</th>\n",
       "      <th>Tier_3_Support_Location_Name</th>\n",
       "      <th>Tier_3_Support_Leader_Name</th>\n",
       "      <th>Tier_2_Support_Location_Name</th>\n",
       "      <th>HighSchool_Network_Location_Code</th>\n",
       "      <th>HighSchool_Network_Name</th>\n",
       "      <th>HighSchool_Network_Superintendent</th>\n",
       "      <th>Community_district 1</th>\n",
       "      <th>Police_precinct</th>\n",
       "    </tr>\n",
       "  </thead>\n",
       "  <tbody>\n",
       "    <tr>\n",
       "      <th>0</th>\n",
       "      <td>2020</td>\n",
       "      <td>15K001</td>\n",
       "      <td>K001</td>\n",
       "      <td>P.S. 001 The Bergen</td>\n",
       "      <td>331500010001</td>\n",
       "      <td>DOE</td>\n",
       "      <td>General Academic</td>\n",
       "      <td>Elementary</td>\n",
       "      <td>PK,0K,01,02,03,04,05,SE</td>\n",
       "      <td>PK,0K,01,02,03,04,05</td>\n",
       "      <td>...</td>\n",
       "      <td>COMMUNITY SCHOOL DISTRICT 15</td>\n",
       "      <td>SKOP, ANITA</td>\n",
       "      <td>NYCDOE Borough Office - Brooklyn North</td>\n",
       "      <td>NaN</td>\n",
       "      <td>School Support Team 5- Brooklyn North</td>\n",
       "      <td>NaN</td>\n",
       "      <td>NaN</td>\n",
       "      <td>NaN</td>\n",
       "      <td>307.0</td>\n",
       "      <td>72.0</td>\n",
       "    </tr>\n",
       "    <tr>\n",
       "      <th>1</th>\n",
       "      <td>2020</td>\n",
       "      <td>17K002</td>\n",
       "      <td>K002</td>\n",
       "      <td>Parkside Preparatory Academy</td>\n",
       "      <td>331700010002</td>\n",
       "      <td>DOE</td>\n",
       "      <td>General Academic</td>\n",
       "      <td>Junior High-Intermediate-Middle</td>\n",
       "      <td>06,07,08,SE</td>\n",
       "      <td>06,07,08</td>\n",
       "      <td>...</td>\n",
       "      <td>COMMUNITY SCHOOL DISTRICT 17</td>\n",
       "      <td>ELLIS, CLARENCE</td>\n",
       "      <td>NYCDOE Borough Office - Brooklyn South</td>\n",
       "      <td>Mauriciere de Govia</td>\n",
       "      <td>School Support Team 2- Brooklyn South</td>\n",
       "      <td>NaN</td>\n",
       "      <td>NaN</td>\n",
       "      <td>NaN</td>\n",
       "      <td>309.0</td>\n",
       "      <td>71.0</td>\n",
       "    </tr>\n",
       "    <tr>\n",
       "      <th>2</th>\n",
       "      <td>2020</td>\n",
       "      <td>13K003</td>\n",
       "      <td>K003</td>\n",
       "      <td>P.S. 003 The Bedford Village</td>\n",
       "      <td>331300010003</td>\n",
       "      <td>DOE</td>\n",
       "      <td>General Academic</td>\n",
       "      <td>Elementary</td>\n",
       "      <td>PK,0K,01,02,03,04,05,SE</td>\n",
       "      <td>PK,0K,01,02,03,04,05</td>\n",
       "      <td>...</td>\n",
       "      <td>COMMUNITY SCHOOL DISTRICT 13</td>\n",
       "      <td>SAMUELS, KAMAR</td>\n",
       "      <td>NYCDOE Borough Office - Brooklyn North</td>\n",
       "      <td>NaN</td>\n",
       "      <td>School Support Team 3- Brooklyn North</td>\n",
       "      <td>NaN</td>\n",
       "      <td>NaN</td>\n",
       "      <td>NaN</td>\n",
       "      <td>303.0</td>\n",
       "      <td>79.0</td>\n",
       "    </tr>\n",
       "    <tr>\n",
       "      <th>3</th>\n",
       "      <td>2020</td>\n",
       "      <td>75K004</td>\n",
       "      <td>K004</td>\n",
       "      <td>P.S. K004</td>\n",
       "      <td>307500013004</td>\n",
       "      <td>DOE</td>\n",
       "      <td>Special Education</td>\n",
       "      <td>Elementary</td>\n",
       "      <td>PK,0K,01,02,03,04,05,SE</td>\n",
       "      <td>PK,0K,01,02,03,04,05,06,07,SE</td>\n",
       "      <td>...</td>\n",
       "      <td>CITYWIDE SPECIAL EDUCATION</td>\n",
       "      <td>LOUISSAINT, KETLER</td>\n",
       "      <td>D75 CITYWIDE BCO</td>\n",
       "      <td>Tillman Roberto</td>\n",
       "      <td>Children First Network 752</td>\n",
       "      <td>NaN</td>\n",
       "      <td>NaN</td>\n",
       "      <td>NaN</td>\n",
       "      <td>305.0</td>\n",
       "      <td>75.0</td>\n",
       "    </tr>\n",
       "    <tr>\n",
       "      <th>4</th>\n",
       "      <td>2020</td>\n",
       "      <td>16K005</td>\n",
       "      <td>K005</td>\n",
       "      <td>P.S. 005 Dr. Ronald McNair</td>\n",
       "      <td>331600010005</td>\n",
       "      <td>DOE</td>\n",
       "      <td>General Academic</td>\n",
       "      <td>Elementary</td>\n",
       "      <td>PK,0K,01,02,03,04,05,SE</td>\n",
       "      <td>PK,0K,01,02,03,04,05</td>\n",
       "      <td>...</td>\n",
       "      <td>COMMUNITY SCHOOL DISTRICT 16</td>\n",
       "      <td>MARTIN, YOLANDA</td>\n",
       "      <td>NYCDOE Borough Office - Brooklyn North</td>\n",
       "      <td>NaN</td>\n",
       "      <td>School Support Team 4- Brooklyn North</td>\n",
       "      <td>NaN</td>\n",
       "      <td>NaN</td>\n",
       "      <td>NaN</td>\n",
       "      <td>303.0</td>\n",
       "      <td>81.0</td>\n",
       "    </tr>\n",
       "  </tbody>\n",
       "</table>\n",
       "<p>5 rows × 41 columns</p>\n",
       "</div>"
      ],
      "text/plain": [
       "   fiscal_year system_code location_code                 location_name  \\\n",
       "0         2020      15K001          K001           P.S. 001 The Bergen   \n",
       "1         2020      17K002          K002  Parkside Preparatory Academy   \n",
       "2         2020      13K003          K003  P.S. 003 The Bedford Village   \n",
       "3         2020      75K004          K004                     P.S. K004   \n",
       "4         2020      16K005          K005    P.S. 005 Dr. Ronald McNair   \n",
       "\n",
       "           BEDS Managed_by_name location_type_description  \\\n",
       "0  331500010001             DOE          General Academic   \n",
       "1  331700010002             DOE          General Academic   \n",
       "2  331300010003             DOE          General Academic   \n",
       "3  307500013004             DOE         Special Education   \n",
       "4  331600010005             DOE          General Academic   \n",
       "\n",
       "     Location_Category_Description              Grades_text  \\\n",
       "0                       Elementary  PK,0K,01,02,03,04,05,SE   \n",
       "1  Junior High-Intermediate-Middle              06,07,08,SE   \n",
       "2                       Elementary  PK,0K,01,02,03,04,05,SE   \n",
       "3                       Elementary  PK,0K,01,02,03,04,05,SE   \n",
       "4                       Elementary  PK,0K,01,02,03,04,05,SE   \n",
       "\n",
       "               Grades_final_text  ...  Administrative_District_Name  \\\n",
       "0           PK,0K,01,02,03,04,05  ...  COMMUNITY SCHOOL DISTRICT 15   \n",
       "1                       06,07,08  ...  COMMUNITY SCHOOL DISTRICT 17   \n",
       "2           PK,0K,01,02,03,04,05  ...  COMMUNITY SCHOOL DISTRICT 13   \n",
       "3  PK,0K,01,02,03,04,05,06,07,SE  ...    CITYWIDE SPECIAL EDUCATION   \n",
       "4           PK,0K,01,02,03,04,05  ...  COMMUNITY SCHOOL DISTRICT 16   \n",
       "\n",
       "  community_school_sup_name            Tier_3_Support_Location_Name  \\\n",
       "0               SKOP, ANITA  NYCDOE Borough Office - Brooklyn North   \n",
       "1           ELLIS, CLARENCE  NYCDOE Borough Office - Brooklyn South   \n",
       "2            SAMUELS, KAMAR  NYCDOE Borough Office - Brooklyn North   \n",
       "3        LOUISSAINT, KETLER                        D75 CITYWIDE BCO   \n",
       "4           MARTIN, YOLANDA  NYCDOE Borough Office - Brooklyn North   \n",
       "\n",
       "  Tier_3_Support_Leader_Name           Tier_2_Support_Location_Name  \\\n",
       "0                        NaN  School Support Team 5- Brooklyn North   \n",
       "1        Mauriciere de Govia  School Support Team 2- Brooklyn South   \n",
       "2                        NaN  School Support Team 3- Brooklyn North   \n",
       "3            Tillman Roberto             Children First Network 752   \n",
       "4                        NaN  School Support Team 4- Brooklyn North   \n",
       "\n",
       "   HighSchool_Network_Location_Code  HighSchool_Network_Name  \\\n",
       "0                               NaN                      NaN   \n",
       "1                               NaN                      NaN   \n",
       "2                               NaN                      NaN   \n",
       "3                               NaN                      NaN   \n",
       "4                               NaN                      NaN   \n",
       "\n",
       "   HighSchool_Network_Superintendent  Community_district 1  Police_precinct  \n",
       "0                                NaN                 307.0             72.0  \n",
       "1                                NaN                 309.0             71.0  \n",
       "2                                NaN                 303.0             79.0  \n",
       "3                                NaN                 305.0             75.0  \n",
       "4                                NaN                 303.0             81.0  \n",
       "\n",
       "[5 rows x 41 columns]"
      ]
     },
     "execution_count": 5,
     "metadata": {},
     "output_type": "execute_result"
    }
   ],
   "source": [
    "school_df = pd.read_csv('./data/schools.csv')\n",
    "school_df.head()"
   ]
  },
  {
   "cell_type": "code",
   "execution_count": 6,
   "metadata": {},
   "outputs": [
    {
     "data": {
      "text/plain": [
       "Index(['fiscal_year', 'system_code', 'location_code', 'location_name', 'BEDS',\n",
       "       'Managed_by_name', 'location_type_description',\n",
       "       'Location_Category_Description', 'Grades_text', 'Grades_final_text',\n",
       "       'open_date', 'Status_descriptions', 'Primary_building_code',\n",
       "       'primary_address_line_1', 'State_code', 'X_COORDINATE', 'Y_COORDINATE',\n",
       "       'LONGITUDE', 'LATITUDE', 'Community_district', 'Council-district',\n",
       "       'Census_tract', 'Borough_block_lot', 'NTA', 'NTA_Name',\n",
       "       'Principal_Name', 'Principal_title', 'Principal_phone_number',\n",
       "       'fax_number', 'Geographical_District_code',\n",
       "       'Administrative_District_Code', 'Administrative_District_Name',\n",
       "       'community_school_sup_name', 'Tier_3_Support_Location_Name',\n",
       "       'Tier_3_Support_Leader_Name', 'Tier_2_Support_Location_Name',\n",
       "       'HighSchool_Network_Location_Code', 'HighSchool_Network_Name',\n",
       "       'HighSchool_Network_Superintendent', 'Community_district 1',\n",
       "       'Police_precinct'],\n",
       "      dtype='object')"
      ]
     },
     "execution_count": 6,
     "metadata": {},
     "output_type": "execute_result"
    }
   ],
   "source": [
    "school_df.columns"
   ]
  },
  {
   "cell_type": "code",
   "execution_count": 7,
   "metadata": {},
   "outputs": [
    {
     "name": "stdout",
     "output_type": "stream",
     "text": [
      "{40.0: 72, 75.0: 71, 42.0: 69, 44.0: 63, 43.0: 58, 73.0: 56, 48.0: 51, 79.0: 46, 105.0: 42, 67.0: 41, 46.0: 39, 47.0: 38, 114.0: 37, 83.0: 37, 49.0: 36, 23.0: 36, 52.0: 36, 71.0: 35, 120.0: 34, 34.0: 34, 107.0: 34, 113.0: 34, 45.0: 34, 109.0: 33, 81.0: 33, 41.0: 33, 77.0: 32, 72.0: 31, 60.0: 30, 90.0: 29, 122.0: 28, 69.0: 28, 50.0: 28, 25.0: 28, 20.0: 28, 70.0: 27, 7.0: 27, 18.0: 26, 61.0: 26, 84.0: 26, 13.0: 26, 110.0: 25, 1.0: 25, 32.0: 25, 62.0: 24, 111.0: 24, 103.0: 24, 28.0: 23, 104.0: 23, 106.0: 23, 88.0: 23, 108.0: 22, 102.0: 22, 66.0: 21, 19.0: 20, 115.0: 20, 101.0: 20, 33.0: 19, 9.0: 19, 26.0: 19, 94.0: 18, 76.0: 17, 68.0: 17, 78.0: 16, 112.0: 16, 10.0: 15, 100.0: 15, 5.0: 15, 123.0: 15, 24.0: 15, 30.0: 11, 63.0: 11, 6.0: 10, 121.0: 7, 14.0: 6, 17.0: 4}\n"
     ]
    }
   ],
   "source": [
    "# Filter out rows with missing Police_precinct values\n",
    "filtered_school_df = school_df.dropna(subset=['Police_precinct'])\n",
    "\n",
    "# Group by Police_precinct and count\n",
    "police_precinct_counts = filtered_school_df['Police_precinct'].value_counts().to_dict()\n",
    "\n",
    "# Display the dictionary\n",
    "print(police_precinct_counts)"
   ]
  },
  {
   "cell_type": "code",
   "execution_count": 8,
   "metadata": {},
   "outputs": [],
   "source": [
    "# Add new column using map function\n",
    "police_df['schools_in_precinct'] = police_df['Precinct'].map(police_precinct_counts)\n",
    "\n",
    "# Convert to integer type since counts should be whole numbers\n",
    "police_df = police_df.dropna(subset=['schools_in_precinct'])\n",
    "police_df['schools_in_precinct'] = police_df['schools_in_precinct'].astype(int)"
   ]
  },
  {
   "cell_type": "code",
   "execution_count": 9,
   "metadata": {},
   "outputs": [
    {
     "data": {
      "text/html": [
       "<div>\n",
       "<style scoped>\n",
       "    .dataframe tbody tr th:only-of-type {\n",
       "        vertical-align: middle;\n",
       "    }\n",
       "\n",
       "    .dataframe tbody tr th {\n",
       "        vertical-align: top;\n",
       "    }\n",
       "\n",
       "    .dataframe thead th {\n",
       "        text-align: right;\n",
       "    }\n",
       "</style>\n",
       "<table border=\"1\" class=\"dataframe\">\n",
       "  <thead>\n",
       "    <tr style=\"text-align: right;\">\n",
       "      <th></th>\n",
       "      <th>the_geom</th>\n",
       "      <th>Precinct</th>\n",
       "      <th>Shape_Leng</th>\n",
       "      <th>Shape_Area</th>\n",
       "      <th>schools_in_precinct</th>\n",
       "    </tr>\n",
       "  </thead>\n",
       "  <tbody>\n",
       "    <tr>\n",
       "      <th>0</th>\n",
       "      <td>MULTIPOLYGON (((-74.04387761573958 40.69018767...</td>\n",
       "      <td>1</td>\n",
       "      <td>79979.409545</td>\n",
       "      <td>4.718216e+07</td>\n",
       "      <td>25</td>\n",
       "    </tr>\n",
       "    <tr>\n",
       "      <th>1</th>\n",
       "      <td>MULTIPOLYGON (((-73.98863862848773 40.72293372...</td>\n",
       "      <td>5</td>\n",
       "      <td>18676.124259</td>\n",
       "      <td>1.808880e+07</td>\n",
       "      <td>15</td>\n",
       "    </tr>\n",
       "    <tr>\n",
       "      <th>2</th>\n",
       "      <td>MULTIPOLYGON (((-73.99968392160729 40.73855224...</td>\n",
       "      <td>6</td>\n",
       "      <td>27182.610113</td>\n",
       "      <td>2.213193e+07</td>\n",
       "      <td>10</td>\n",
       "    </tr>\n",
       "    <tr>\n",
       "      <th>3</th>\n",
       "      <td>MULTIPOLYGON (((-73.94131742369488 40.80771334...</td>\n",
       "      <td>28</td>\n",
       "      <td>17098.987088</td>\n",
       "      <td>1.528954e+07</td>\n",
       "      <td>23</td>\n",
       "    </tr>\n",
       "    <tr>\n",
       "      <th>4</th>\n",
       "      <td>MULTIPOLYGON (((-73.97345324119578 40.71896288...</td>\n",
       "      <td>7</td>\n",
       "      <td>17301.492549</td>\n",
       "      <td>1.836333e+07</td>\n",
       "      <td>27</td>\n",
       "    </tr>\n",
       "  </tbody>\n",
       "</table>\n",
       "</div>"
      ],
      "text/plain": [
       "                                            the_geom  Precinct    Shape_Leng  \\\n",
       "0  MULTIPOLYGON (((-74.04387761573958 40.69018767...         1  79979.409545   \n",
       "1  MULTIPOLYGON (((-73.98863862848773 40.72293372...         5  18676.124259   \n",
       "2  MULTIPOLYGON (((-73.99968392160729 40.73855224...         6  27182.610113   \n",
       "3  MULTIPOLYGON (((-73.94131742369488 40.80771334...        28  17098.987088   \n",
       "4  MULTIPOLYGON (((-73.97345324119578 40.71896288...         7  17301.492549   \n",
       "\n",
       "     Shape_Area  schools_in_precinct  \n",
       "0  4.718216e+07                   25  \n",
       "1  1.808880e+07                   15  \n",
       "2  2.213193e+07                   10  \n",
       "3  1.528954e+07                   23  \n",
       "4  1.836333e+07                   27  "
      ]
     },
     "execution_count": 9,
     "metadata": {},
     "output_type": "execute_result"
    }
   ],
   "source": [
    "police_df.head()"
   ]
  },
  {
   "cell_type": "markdown",
   "metadata": {},
   "source": [
    "# Crime"
   ]
  },
  {
   "cell_type": "code",
   "execution_count": 10,
   "metadata": {},
   "outputs": [
    {
     "name": "stderr",
     "output_type": "stream",
     "text": [
      "/var/folders/v5/xm8593vd6j9b4glbzfdh4pmw0000gn/T/ipykernel_79775/3014401679.py:1: DtypeWarning: Columns (18,20) have mixed types. Specify dtype option on import or set low_memory=False.\n",
      "  complaints_data = pd.read_csv('./data/NYPD_Complaint_Data_Historic.csv')\n"
     ]
    }
   ],
   "source": [
    "complaints_data = pd.read_csv('./data/NYPD_Complaint_Data_Historic.csv')"
   ]
  },
  {
   "cell_type": "code",
   "execution_count": 11,
   "metadata": {},
   "outputs": [
    {
     "name": "stdout",
     "output_type": "stream",
     "text": [
      "Crime Rate per Precinct:\n",
      "Precinct 1: 1.26%\n",
      "Precinct 5: 0.89%\n",
      "Precinct 6: 1.07%\n",
      "Precinct 7: 0.85%\n",
      "Precinct 9: 1.18%\n",
      "Precinct 10: 0.84%\n",
      "Precinct 13: 1.47%\n",
      "Precinct 14: 2.26%\n",
      "Precinct 17: 0.69%\n",
      "Precinct 18: 1.59%\n",
      "Precinct 19: 1.37%\n",
      "Precinct 20: 0.83%\n",
      "Precinct 22: 0.08%\n",
      "Precinct 23: 1.30%\n",
      "Precinct 24: 1.00%\n",
      "Precinct 25: 1.36%\n",
      "Precinct 26: 0.67%\n",
      "Precinct 28: 1.07%\n",
      "Precinct 30: 0.93%\n",
      "Precinct 32: 1.36%\n",
      "Precinct 33: 0.90%\n",
      "Precinct 34: 1.10%\n",
      "Precinct 40: 2.41%\n",
      "Precinct 41: 1.35%\n",
      "Precinct 42: 1.62%\n",
      "Precinct 43: 2.56%\n",
      "Precinct 44: 2.48%\n",
      "Precinct 45: 1.26%\n",
      "Precinct 46: 2.10%\n",
      "Precinct 47: 1.91%\n",
      "Precinct 48: 1.63%\n",
      "Precinct 49: 1.35%\n",
      "Precinct 50: 0.92%\n",
      "Precinct 52: 2.09%\n",
      "Precinct 60: 1.26%\n",
      "Precinct 61: 1.22%\n",
      "Precinct 62: 1.20%\n",
      "Precinct 63: 1.03%\n",
      "Precinct 66: 0.95%\n",
      "Precinct 67: 1.89%\n",
      "Precinct 68: 1.00%\n",
      "Precinct 69: 0.96%\n",
      "Precinct 70: 1.57%\n",
      "Precinct 71: 1.38%\n",
      "Precinct 72: 1.09%\n",
      "Precinct 73: 2.04%\n",
      "Precinct 75: 3.21%\n",
      "Precinct 76: 0.55%\n",
      "Precinct 77: 1.42%\n",
      "Precinct 78: 0.73%\n",
      "Precinct 79: 1.59%\n",
      "Precinct 81: 1.21%\n",
      "Precinct 83: 1.37%\n",
      "Precinct 84: 1.04%\n",
      "Precinct 88: 0.88%\n",
      "Precinct 90: 1.31%\n",
      "Precinct 94: 0.71%\n",
      "Precinct 100: 0.53%\n",
      "Precinct 101: 0.87%\n",
      "Precinct 102: 1.23%\n",
      "Precinct 103: 1.56%\n",
      "Precinct 104: 1.43%\n",
      "Precinct 105: 1.50%\n",
      "Precinct 106: 1.23%\n",
      "Precinct 107: 1.05%\n",
      "Precinct 108: 1.06%\n",
      "Precinct 109: 1.65%\n",
      "Precinct 110: 1.39%\n",
      "Precinct 111: 0.63%\n",
      "Precinct 112: 0.72%\n",
      "Precinct 113: 1.68%\n",
      "Precinct 114: 1.85%\n",
      "Precinct 115: 1.63%\n",
      "Precinct 120: 1.94%\n",
      "Precinct 121: 0.67%\n",
      "Precinct 122: 1.41%\n",
      "Precinct 123: 0.62%\n"
     ]
    },
    {
     "name": "stderr",
     "output_type": "stream",
     "text": [
      "/var/folders/v5/xm8593vd6j9b4glbzfdh4pmw0000gn/T/ipykernel_79775/2444422673.py:8: SettingWithCopyWarning: \n",
      "A value is trying to be set on a copy of a slice from a DataFrame.\n",
      "Try using .loc[row_indexer,col_indexer] = value instead\n",
      "\n",
      "See the caveats in the documentation: https://pandas.pydata.org/pandas-docs/stable/user_guide/indexing.html#returning-a-view-versus-a-copy\n",
      "  complaints_df['ADDR_PCT_CD'] = complaints_df['ADDR_PCT_CD'].astype(int)\n"
     ]
    }
   ],
   "source": [
    "# Convert ADDR_PCT_CD to integer, replacing any non-numeric values with NaN\n",
    "complaints_data['ADDR_PCT_CD'] = pd.to_numeric(complaints_data['ADDR_PCT_CD'], errors='coerce')\n",
    "\n",
    "# Drop any NaN values\n",
    "complaints_df = complaints_data.dropna(subset=['ADDR_PCT_CD'])\n",
    "\n",
    "# Convert to integer type\n",
    "complaints_df['ADDR_PCT_CD'] = complaints_df['ADDR_PCT_CD'].astype(int)\n",
    "\n",
    "# Calculate count of crimes per precinct\n",
    "crime_count_per_precinct = complaints_df['ADDR_PCT_CD'].value_counts()\n",
    "\n",
    "# Calculate total number of complaints\n",
    "total_complaints = len(complaints_df)\n",
    "\n",
    "# Calculate crime rate per precinct\n",
    "crime_rate_per_precinct = (crime_count_per_precinct / total_complaints) * 100\n",
    "\n",
    "# Sort by precinct number\n",
    "crime_rate_per_precinct = crime_rate_per_precinct.sort_index()\n",
    "\n",
    "# Display results\n",
    "print(\"Crime Rate per Precinct:\")\n",
    "for precinct, rate in crime_rate_per_precinct.items():\n",
    "    print(f\"Precinct {precinct}: {rate:.2f}%\")"
   ]
  },
  {
   "cell_type": "code",
   "execution_count": 12,
   "metadata": {},
   "outputs": [],
   "source": [
    "# Create a mapping dictionary of crime rates per precinct\n",
    "crime_rate_per_precinct_mapping = crime_rate_per_precinct.to_dict()\n",
    "\n",
    "# Add new column using map function\n",
    "police_df['crime_rate'] = police_df['Precinct'].map(crime_rate_per_precinct_mapping)"
   ]
  },
  {
   "cell_type": "code",
   "execution_count": 13,
   "metadata": {},
   "outputs": [
    {
     "data": {
      "text/html": [
       "<div>\n",
       "<style scoped>\n",
       "    .dataframe tbody tr th:only-of-type {\n",
       "        vertical-align: middle;\n",
       "    }\n",
       "\n",
       "    .dataframe tbody tr th {\n",
       "        vertical-align: top;\n",
       "    }\n",
       "\n",
       "    .dataframe thead th {\n",
       "        text-align: right;\n",
       "    }\n",
       "</style>\n",
       "<table border=\"1\" class=\"dataframe\">\n",
       "  <thead>\n",
       "    <tr style=\"text-align: right;\">\n",
       "      <th></th>\n",
       "      <th>the_geom</th>\n",
       "      <th>Precinct</th>\n",
       "      <th>Shape_Leng</th>\n",
       "      <th>Shape_Area</th>\n",
       "      <th>schools_in_precinct</th>\n",
       "      <th>crime_rate</th>\n",
       "    </tr>\n",
       "  </thead>\n",
       "  <tbody>\n",
       "    <tr>\n",
       "      <th>0</th>\n",
       "      <td>MULTIPOLYGON (((-74.04387761573958 40.69018767...</td>\n",
       "      <td>1</td>\n",
       "      <td>79979.409545</td>\n",
       "      <td>4.718216e+07</td>\n",
       "      <td>25</td>\n",
       "      <td>1.258965</td>\n",
       "    </tr>\n",
       "    <tr>\n",
       "      <th>1</th>\n",
       "      <td>MULTIPOLYGON (((-73.98863862848773 40.72293372...</td>\n",
       "      <td>5</td>\n",
       "      <td>18676.124259</td>\n",
       "      <td>1.808880e+07</td>\n",
       "      <td>15</td>\n",
       "      <td>0.886579</td>\n",
       "    </tr>\n",
       "    <tr>\n",
       "      <th>2</th>\n",
       "      <td>MULTIPOLYGON (((-73.99968392160729 40.73855224...</td>\n",
       "      <td>6</td>\n",
       "      <td>27182.610113</td>\n",
       "      <td>2.213193e+07</td>\n",
       "      <td>10</td>\n",
       "      <td>1.073149</td>\n",
       "    </tr>\n",
       "    <tr>\n",
       "      <th>3</th>\n",
       "      <td>MULTIPOLYGON (((-73.94131742369488 40.80771334...</td>\n",
       "      <td>28</td>\n",
       "      <td>17098.987088</td>\n",
       "      <td>1.528954e+07</td>\n",
       "      <td>23</td>\n",
       "      <td>1.072816</td>\n",
       "    </tr>\n",
       "    <tr>\n",
       "      <th>4</th>\n",
       "      <td>MULTIPOLYGON (((-73.97345324119578 40.71896288...</td>\n",
       "      <td>7</td>\n",
       "      <td>17301.492549</td>\n",
       "      <td>1.836333e+07</td>\n",
       "      <td>27</td>\n",
       "      <td>0.853511</td>\n",
       "    </tr>\n",
       "  </tbody>\n",
       "</table>\n",
       "</div>"
      ],
      "text/plain": [
       "                                            the_geom  Precinct    Shape_Leng  \\\n",
       "0  MULTIPOLYGON (((-74.04387761573958 40.69018767...         1  79979.409545   \n",
       "1  MULTIPOLYGON (((-73.98863862848773 40.72293372...         5  18676.124259   \n",
       "2  MULTIPOLYGON (((-73.99968392160729 40.73855224...         6  27182.610113   \n",
       "3  MULTIPOLYGON (((-73.94131742369488 40.80771334...        28  17098.987088   \n",
       "4  MULTIPOLYGON (((-73.97345324119578 40.71896288...         7  17301.492549   \n",
       "\n",
       "     Shape_Area  schools_in_precinct  crime_rate  \n",
       "0  4.718216e+07                   25    1.258965  \n",
       "1  1.808880e+07                   15    0.886579  \n",
       "2  2.213193e+07                   10    1.073149  \n",
       "3  1.528954e+07                   23    1.072816  \n",
       "4  1.836333e+07                   27    0.853511  "
      ]
     },
     "execution_count": 13,
     "metadata": {},
     "output_type": "execute_result"
    }
   ],
   "source": [
    "police_df.head()"
   ]
  },
  {
   "cell_type": "code",
   "execution_count": 14,
   "metadata": {},
   "outputs": [],
   "source": [
    "police_df.to_csv('./data/final-precinct-dataset.csv')"
   ]
  },
  {
   "cell_type": "code",
   "execution_count": 15,
   "metadata": {},
   "outputs": [
    {
     "data": {
      "text/plain": [
       "Index(['the_geom', 'Precinct', 'Shape_Leng', 'Shape_Area',\n",
       "       'schools_in_precinct', 'crime_rate'],\n",
       "      dtype='object')"
      ]
     },
     "execution_count": 15,
     "metadata": {},
     "output_type": "execute_result"
    }
   ],
   "source": [
    "police_df.columns"
   ]
  },
  {
   "cell_type": "code",
   "execution_count": null,
   "metadata": {},
   "outputs": [],
   "source": []
  }
 ],
 "metadata": {
  "kernelspec": {
   "display_name": "base",
   "language": "python",
   "name": "python3"
  },
  "language_info": {
   "codemirror_mode": {
    "name": "ipython",
    "version": 3
   },
   "file_extension": ".py",
   "mimetype": "text/x-python",
   "name": "python",
   "nbconvert_exporter": "python",
   "pygments_lexer": "ipython3",
   "version": "3.11.8"
  }
 },
 "nbformat": 4,
 "nbformat_minor": 2
}
